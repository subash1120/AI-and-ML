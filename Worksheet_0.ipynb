{
  "nbformat": 4,
  "nbformat_minor": 0,
  "metadata": {
    "colab": {
      "provenance": []
    },
    "kernelspec": {
      "name": "python3",
      "display_name": "Python 3"
    },
    "language_info": {
      "name": "python"
    }
  },
  "cells": [
    {
      "cell_type": "markdown",
      "source": [
        "# 4.1 Exercise on Functions:\n",
        "Task - 1: Create a Python program that converts between different units of measurement.\n"
      ],
      "metadata": {
        "id": "2qXK7BFy_UpU"
      }
    },
    {
      "cell_type": "code",
      "source": [
        "def unit_conversion():\n",
        "    \"\"\"\n",
        "    A program that converts between length, weight, and volume units.\n",
        "\n",
        "    Conversion options:\n",
        "    - Length: meters to feet, feet to meters\n",
        "    - Weight: kilograms to pounds, pounds to kilograms\n",
        "    - Volume: liters to gallons, gallons to liters\n",
        "    \"\"\"\n",
        "\n",
        "    print(\"\\nWelcome to the Unit Converter!\")\n",
        "    print(\"Choose a conversion type:\")\n",
        "    print(\"1. Length (m <-> ft)\")\n",
        "    print(\"2. Weight (kg <-> lbs)\")\n",
        "    print(\"3. Volume (L <-> gal)\")\n",
        "\n",
        "    try:\n",
        "\n",
        "        choice = int(input(\"Enter the number of your choice (1-3): \"))\n",
        "\n",
        "\n",
        "        value = float(input(\"Enter the value to convert: \"))\n",
        "        if choice == 1:\n",
        "            print(\"\\nChoose the direction of conversion:\")\n",
        "            print(\"1. Meters to Feet\")\n",
        "            print(\"2. Feet to Meters\")\n",
        "            sub_choice = int(input(\"Enter 1 or 2: \"))\n",
        "\n",
        "            if sub_choice == 1:\n",
        "                result = value * 3.28084\n",
        "                print(f\"{value} meters = {result:.2f} feet\")\n",
        "            elif sub_choice == 2:\n",
        "                result = value / 3.28084\n",
        "                print(f\"{value} feet = {result:.2f} meters\")\n",
        "            else:\n",
        "                print(\"Invalid choice for length conversion.\")\n",
        "\n",
        "        elif choice == 2:\n",
        "            print(\"\\nChoose the direction of conversion:\")\n",
        "            print(\"1. Kilograms to Pounds\")\n",
        "            print(\"2. Pounds to Kilograms\")\n",
        "            sub_choice = int(input(\"Enter 1 or 2: \"))\n",
        "\n",
        "            if sub_choice == 1:\n",
        "                result = value * 2.20462  #1kg = 2.20462 lbs\n",
        "                print(f\"{value} kg = {result:.2f} lbs\")\n",
        "            elif sub_choice == 2:\n",
        "                result = value / 2.20462\n",
        "                print(f\"{value} lbs = {result:.2f} kg\")\n",
        "            else:\n",
        "                print(\"Invalid choice for weight conversion.\")\n",
        "\n",
        "        elif choice == 3:\n",
        "            print(\"\\nChoose the direction of conversion:\")\n",
        "            print(\"1. Liters to Gallons\")\n",
        "            print(\"2. Gallons to Liters\")\n",
        "            sub_choice = int(input(\"Enter 1 or 2: \"))\n",
        "\n",
        "            if sub_choice == 1:\n",
        "                result = value * 0.264172  # 1L = 0.264172 gal\n",
        "                print(f\"{value} L = {result:.2f} gallons\")\n",
        "            elif sub_choice == 2:\n",
        "                result = value / 0.264172\n",
        "                print(f\"{value} gallons = {result:.2f} L\")\n",
        "            else:\n",
        "                print(\"Invalid choice for volume conversion.\")\n",
        "\n",
        "        else:\n",
        "            print(\"Invalid main choice. Please enter 1, 2, or 3.\")\n",
        "\n",
        "    except ValueError:\n",
        "        print(\"Invalid input! Please enter numbers only.\")\n",
        "\n",
        "unit_conversion()\n"
      ],
      "metadata": {
        "colab": {
          "base_uri": "https://localhost:8080/"
        },
        "id": "64H8OzX__ZeT",
        "outputId": "1b5a3087-1030-4b91-ae69-d024d40d8e33"
      },
      "execution_count": 40,
      "outputs": [
        {
          "output_type": "stream",
          "name": "stdout",
          "text": [
            "\n",
            "Welcome to the Unit Converter!\n",
            "Choose a conversion type:\n",
            "1. Length (m <-> ft)\n",
            "2. Weight (kg <-> lbs)\n",
            "3. Volume (L <-> gal)\n",
            "Enter the number of your choice (1-3): 1\n",
            "Enter the value to convert: 23\n",
            "\n",
            "Choose the direction of conversion:\n",
            "1. Meters to Feet\n",
            "2. Feet to Meters\n",
            "Enter 1 or 2: 2\n",
            "23.0 feet = 7.01 meters\n"
          ]
        }
      ]
    },
    {
      "cell_type": "markdown",
      "source": [
        "Task - 2:\n",
        "Create a Python program that performs various mathematical operations on a list of numbers"
      ],
      "metadata": {
        "id": "3YlhVPk5MUZi"
      }
    },
    {
      "cell_type": "code",
      "source": [
        "def get_numbers():\n",
        "    \"\"\"\n",
        "    Asks the user to input a list of numbers separated by spaces.\n",
        "    Returns a list of float numbers.\n",
        "    \"\"\"\n",
        "    while True:\n",
        "        try:\n",
        "            numbers = list(map(float, input(\"Enter numbers separated by spaces: \").split()))\n",
        "            if not numbers:\n",
        "                raise ValueError(\"The list cannot be empty. Please enter at least one number.\")\n",
        "            return numbers\n",
        "        except ValueError:\n",
        "            print(\"Invalid input! Please enter numeric values separated by spaces.\")\n",
        "\n",
        "def find_sum(numbers):\n",
        "    \"\"\"Returns the sum of the list of numbers.\"\"\"\n",
        "    return sum(numbers)\n",
        "\n",
        "def find_average(numbers):\n",
        "    \"\"\"Returns the average of the list of numbers.\"\"\"\n",
        "    return sum(numbers) / len(numbers)\n",
        "\n",
        "def find_maximum(numbers):\n",
        "    \"\"\"Returns the maximum number from the list.\"\"\"\n",
        "    return max(numbers)\n",
        "\n",
        "def find_minimum(numbers):\n",
        "    \"\"\"Returns the minimum number from the list.\"\"\"\n",
        "    return min(numbers)\n",
        "\n",
        "def main():\n",
        "    \"\"\"\n",
        "    Prompts the user to select a mathematical operation (sum, average, max, min),\n",
        "    takes a list of numbers as input, performs the selected operation, and displays the result.\n",
        "    \"\"\"\n",
        "    print(\"\\nMathematical Operations Program\")\n",
        "    print(\"1. Find Sum\")\n",
        "    print(\"2. Find Average\")\n",
        "    print(\"3. Find Maximum\")\n",
        "    print(\"4. Find Minimum\")\n",
        "\n",
        "    try:\n",
        "        choice = int(input(\"Enter your choice (1-4): \"))\n",
        "\n",
        "        if choice not in [1, 2, 3, 4]:\n",
        "            print(\"Invalid choice! Please enter a number between 1 and 4.\")\n",
        "            return\n",
        "\n",
        "        numbers = get_numbers()\n",
        "\n",
        "        if choice == 1:\n",
        "            result = find_sum(numbers)\n",
        "            print(f\"The sum is: {result}\")\n",
        "        elif choice == 2:\n",
        "            result = find_average(numbers)\n",
        "            print(f\"The average is: {result}\")\n",
        "        elif choice == 3:\n",
        "            result = find_maximum(numbers)\n",
        "            print(f\"The maximum number is: {result}\")\n",
        "        elif choice == 4:\n",
        "            result = find_minimum(numbers)\n",
        "            print(f\"The minimum number is: {result}\")\n",
        "\n",
        "    except ValueError:\n",
        "        print(\"Invalid input! Please enter a number between 1 and 4.\")\n",
        "\n",
        "\n",
        "main()\n"
      ],
      "metadata": {
        "colab": {
          "base_uri": "https://localhost:8080/"
        },
        "id": "GJSgLqmiMWoG",
        "outputId": "0faee37c-c7a0-4266-80c5-94c722c41cf9"
      },
      "execution_count": 41,
      "outputs": [
        {
          "output_type": "stream",
          "name": "stdout",
          "text": [
            "\n",
            "Mathematical Operations Program\n",
            "1. Find Sum\n",
            "2. Find Average\n",
            "3. Find Maximum\n",
            "4. Find Minimum\n",
            "Enter your choice (1-4): 1\n",
            "Enter numbers separated by spaces: 22 22\n",
            "The sum is: 44.0\n"
          ]
        }
      ]
    },
    {
      "cell_type": "markdown",
      "source": [
        "# 4.2 Exercise on List Manipulation:\n",
        "1. Extract Every Other Element:\n",
        "Write a Python function that extracts every other element from a list, starting from the first element.\n"
      ],
      "metadata": {
        "id": "aAlmmS7YMxiN"
      }
    },
    {
      "cell_type": "code",
      "source": [
        "def extract_every_other(lst):\n",
        "    \"\"\"\n",
        "    Returns a new list containing every other element from the input list.\n",
        "\n",
        "    Parameters:\n",
        "    lst (list): The original list.\n",
        "\n",
        "    Returns:\n",
        "    list: A new list with every other element.\n",
        "    \"\"\"\n",
        "    return lst[::2]\n",
        "\n",
        "input_list = [1, 2, 3, 4, 5, 6]\n",
        "output_list = extract_every_other(input_list)\n",
        "\n",
        "print(\"Original List:\", input_list)\n",
        "print(\"Extracted List:\", output_list)\n"
      ],
      "metadata": {
        "id": "Si0ApiELM22W",
        "colab": {
          "base_uri": "https://localhost:8080/"
        },
        "outputId": "e77ae9a5-b8ae-4af7-b78d-fd4d6d266e93"
      },
      "execution_count": 42,
      "outputs": [
        {
          "output_type": "stream",
          "name": "stdout",
          "text": [
            "Original List: [1, 2, 3, 4, 5, 6]\n",
            "Extracted List: [1, 3, 5]\n"
          ]
        }
      ]
    },
    {
      "cell_type": "markdown",
      "source": [
        "2. Slice a Sublist:\n",
        "Write a Python function that returns a sublist from a given list, starting from a specified index and\n",
        "ending at another specified index"
      ],
      "metadata": {
        "id": "VhB3UJJFfNdm"
      }
    },
    {
      "cell_type": "code",
      "source": [
        "def get_sublist(lst, start, end):\n",
        "    \"\"\"\n",
        "    Returns a sublist from the given list, starting from index 'start' and ending at index 'end' (inclusive).\n",
        "\n",
        "    Parameters:\n",
        "    lst (list): The original list.\n",
        "    start (int): The starting index.\n",
        "    end (int): The ending index (inclusive).\n",
        "\n",
        "    Returns:\n",
        "    list: A sublist from 'start' to 'end'.\n",
        "    \"\"\"\n",
        "    return lst[start:end+1]\n",
        "\n",
        "input_list = [1, 2, 3, 4, 5, 6]\n",
        "start_index = 2\n",
        "end_index = 4\n",
        "\n",
        "output_list = get_sublist(input_list, start_index, end_index)\n",
        "\n",
        "print(\"Original List:\", input_list)\n",
        "print(f\"Sublist from index {start_index} to {end_index}:\", output_list)\n"
      ],
      "metadata": {
        "colab": {
          "base_uri": "https://localhost:8080/"
        },
        "id": "9uwPfobVfOOl",
        "outputId": "abb1d8b9-a7e0-4b72-dd0b-be242204de2a"
      },
      "execution_count": 43,
      "outputs": [
        {
          "output_type": "stream",
          "name": "stdout",
          "text": [
            "Original List: [1, 2, 3, 4, 5, 6]\n",
            "Sublist from index 2 to 4: [3, 4, 5]\n"
          ]
        }
      ]
    },
    {
      "cell_type": "markdown",
      "source": [
        "3. Reverse a List Using Slicing:\n",
        "Write a Python function that reverses a list using slicing"
      ],
      "metadata": {
        "id": "Eq3h_N74fvps"
      }
    },
    {
      "cell_type": "code",
      "source": [
        "def reverse_list(lst):\n",
        "    \"\"\"\n",
        "    Returns a reversed list using slicing.\n",
        "\n",
        "    Parameters:\n",
        "    lst (list): The original list.\n",
        "\n",
        "    Returns:\n",
        "    list: The reversed list.\n",
        "    \"\"\"\n",
        "    return lst[::-1]  #slicing with step -1 reverses the list\n",
        "\n",
        "input_list = [1, 2, 3, 4, 5]\n",
        "output_list = reverse_list(input_list)\n",
        "\n",
        "print(\"Original List:\", input_list)\n",
        "print(\"Reversed List:\", output_list)\n"
      ],
      "metadata": {
        "colab": {
          "base_uri": "https://localhost:8080/"
        },
        "id": "0ZUuxnPBfwOF",
        "outputId": "c7e43269-3da2-4ae1-eba6-e1d9cbbff527"
      },
      "execution_count": 44,
      "outputs": [
        {
          "output_type": "stream",
          "name": "stdout",
          "text": [
            "Original List: [1, 2, 3, 4, 5]\n",
            "Reversed List: [5, 4, 3, 2, 1]\n"
          ]
        }
      ]
    },
    {
      "cell_type": "markdown",
      "source": [
        "4. Remove the First and Last Elements:\n",
        "Write a Python function that removes the first and last elements of a list and returns the resulting\n",
        "sublist."
      ],
      "metadata": {
        "id": "N8RJWB4ahd8r"
      }
    },
    {
      "cell_type": "code",
      "source": [
        "def remove_first_last(lst):\n",
        "    \"\"\"\n",
        "    Returns a new list with the first and last elements removed.\n",
        "\n",
        "    Parameters:\n",
        "    lst (list): The original list.\n",
        "\n",
        "    Returns:\n",
        "    list: A new list without the first and last elements.\n",
        "    \"\"\"\n",
        "    return lst[1:-1]  #slicing to remove the first and last elements\n",
        "\n",
        "\n",
        "input_list = [1, 2, 3, 4, 5]\n",
        "output_list = remove_first_last(input_list)\n",
        "\n",
        "print(\"Original List:\", input_list)\n",
        "print(\"Modified List:\", output_list)\n"
      ],
      "metadata": {
        "colab": {
          "base_uri": "https://localhost:8080/"
        },
        "id": "gclGWbTphebd",
        "outputId": "45daa3de-bc84-4b7c-a4c8-3b081edee746"
      },
      "execution_count": 45,
      "outputs": [
        {
          "output_type": "stream",
          "name": "stdout",
          "text": [
            "Original List: [1, 2, 3, 4, 5]\n",
            "Modified List: [2, 3, 4]\n"
          ]
        }
      ]
    },
    {
      "cell_type": "markdown",
      "source": [
        "5. Get the First n Elements:\n",
        "Write a Python function that extracts the first n elements from a list."
      ],
      "metadata": {
        "id": "A6JN4TBuh3AS"
      }
    },
    {
      "cell_type": "code",
      "source": [
        "def get_first_n(lst, n):\n",
        "    \"\"\"\n",
        "    Returns the first n elements of a list.\n",
        "\n",
        "    Parameters:\n",
        "    lst (list): The original list.\n",
        "    n (int): The number of elements to extract.\n",
        "\n",
        "    Returns:\n",
        "    list: A new list containing the first n elements.\n",
        "    \"\"\"\n",
        "    return lst[:n]  #slicing to extract first n elements\n",
        "\n",
        "input_list = [1, 2, 3, 4, 5]\n",
        "n = 3\n",
        "\n",
        "output_list = get_first_n(input_list, n)\n",
        "\n",
        "print(\"Original List:\", input_list)\n",
        "print(f\"First {n} Elements:\", output_list)\n"
      ],
      "metadata": {
        "colab": {
          "base_uri": "https://localhost:8080/"
        },
        "id": "ukN4kgE3h3dC",
        "outputId": "f3b92c42-40d2-4fa0-c1b4-d42d16a4bc6d"
      },
      "execution_count": 46,
      "outputs": [
        {
          "output_type": "stream",
          "name": "stdout",
          "text": [
            "Original List: [1, 2, 3, 4, 5]\n",
            "First 3 Elements: [1, 2, 3]\n"
          ]
        }
      ]
    },
    {
      "cell_type": "markdown",
      "source": [
        "6. Extract Elements from the End:\n",
        "Write a Python function that extracts the last n elements of a list using slicing.\n",
        "\n"
      ],
      "metadata": {
        "id": "t928xbmSiZf4"
      }
    },
    {
      "cell_type": "code",
      "source": [
        "def get_last_n(lst, n):\n",
        "    \"\"\"\n",
        "    Returns the last n elements of a list.\n",
        "\n",
        "    Parameters:\n",
        "    lst (list): The original list.\n",
        "    n (int): The number of elements to extract from the end.\n",
        "\n",
        "    Returns:\n",
        "    list: A new list containing the last n elements.\n",
        "    \"\"\"\n",
        "    return lst[-n:]  #slicing to extract the last n elements\n",
        "\n",
        "input_list = [1, 2, 3, 4, 5]\n",
        "n = 2\n",
        "\n",
        "output_list = get_last_n(input_list, n)\n",
        "\n",
        "print(\"Original List:\", input_list)\n",
        "print(f\"Last {n} Elements:\", output_list)\n"
      ],
      "metadata": {
        "colab": {
          "base_uri": "https://localhost:8080/"
        },
        "id": "pU1G052CibTM",
        "outputId": "d3f18e17-e613-4f8a-c3ce-70c0b353fea7"
      },
      "execution_count": 47,
      "outputs": [
        {
          "output_type": "stream",
          "name": "stdout",
          "text": [
            "Original List: [1, 2, 3, 4, 5]\n",
            "Last 2 Elements: [4, 5]\n"
          ]
        }
      ]
    },
    {
      "cell_type": "markdown",
      "source": [
        "7. Extract Elements in Reverse Order:\n",
        "Write a Python function that extracts a list of elements in reverse order starting from the second-to-last\n",
        "element and skipping one element in between.\n"
      ],
      "metadata": {
        "id": "JNiioJQHi1vk"
      }
    },
    {
      "cell_type": "code",
      "source": [
        "def reverse_skip(lst):\n",
        "    \"\"\"\n",
        "    Returns a new list containing every second element in reverse order,\n",
        "    starting from the second-to-last element.\n",
        "\n",
        "    Parameters:\n",
        "    lst (list): The original list.\n",
        "\n",
        "    Returns:\n",
        "    list: A new list with elements extracted in reverse order.\n",
        "    \"\"\"\n",
        "    return lst[-2::-2]  #start from second-to-last and move backwards with step -2\n",
        "\n",
        "\n",
        "input_list = [1, 2, 3, 4, 5, 6]\n",
        "output_list = reverse_skip(input_list)\n",
        "\n",
        "print(\"Original List:\", input_list)\n",
        "print(\"Extracted List:\", output_list)\n"
      ],
      "metadata": {
        "colab": {
          "base_uri": "https://localhost:8080/"
        },
        "id": "LsQXYMpBi3Ih",
        "outputId": "e17bf753-f7bc-419a-c467-97dfbbdb04f6"
      },
      "execution_count": 48,
      "outputs": [
        {
          "output_type": "stream",
          "name": "stdout",
          "text": [
            "Original List: [1, 2, 3, 4, 5, 6]\n",
            "Extracted List: [5, 3, 1]\n"
          ]
        }
      ]
    },
    {
      "cell_type": "markdown",
      "source": [
        "#4.3 Exercise on Nested List:\n"
      ],
      "metadata": {
        "id": "aTVgWoo2jJWz"
      }
    },
    {
      "cell_type": "markdown",
      "source": [
        "1. Flatten a Nested List:\n",
        "Write a Python function that takes a nested list and flattens it into a single list, where all the elements\n",
        "are in a single dimension.\n",
        "\n"
      ],
      "metadata": {
        "id": "rOC_QoKzjKep"
      }
    },
    {
      "cell_type": "code",
      "source": [
        "def flatten(lst):\n",
        "    \"\"\"\n",
        "    Flattens a nested list into a single list.\n",
        "\n",
        "    Parameters:\n",
        "    lst (list): The nested list.\n",
        "\n",
        "    Returns:\n",
        "    list: A flattened version of the list.\n",
        "    \"\"\"\n",
        "    flattened_list = []  #initializing an empty list\n",
        "    for sublist in lst:\n",
        "        flattened_list.extend(sublist)  #adding elements of each sublist to the main list\n",
        "    return flattened_list\n",
        "\n",
        "input_list = [[1, 2], [3, 4], [5]]\n",
        "output_list = flatten(input_list)\n",
        "\n",
        "print(\"Original Nested List:\", input_list)\n",
        "print(\"Flattened List:\", output_list)\n"
      ],
      "metadata": {
        "colab": {
          "base_uri": "https://localhost:8080/"
        },
        "id": "xYzBhq3BjNsJ",
        "outputId": "c3c6dfff-4595-4d08-baa3-a95d568e3af8"
      },
      "execution_count": 49,
      "outputs": [
        {
          "output_type": "stream",
          "name": "stdout",
          "text": [
            "Original Nested List: [[1, 2], [3, 4], [5]]\n",
            "Flattened List: [1, 2, 3, 4, 5]\n"
          ]
        }
      ]
    },
    {
      "cell_type": "markdown",
      "source": [
        "2. Accessing Nested List Elements:\n",
        "Write a Python function that extracts a specific element from a nested list given its indices.\n"
      ],
      "metadata": {
        "id": "WBeiXaINjzim"
      }
    },
    {
      "cell_type": "code",
      "source": [
        "def access_nested_element(lst, indices):\n",
        "    \"\"\"\n",
        "    Retrieves an element from a nested list using a list of indices.\n",
        "\n",
        "    Parameters:\n",
        "    lst (list): The nested list (like a table).\n",
        "    indices (list): The row and column indices.\n",
        "\n",
        "    Returns:\n",
        "    The element at the given indices.\n",
        "    \"\"\"\n",
        "    row = indices[0]\n",
        "    column = indices[1]\n",
        "    return lst[row][column]\n",
        "\n",
        "nested_list = [\n",
        "    [1, 2, 3],\n",
        "    [4, 5, 6],\n",
        "    [7, 8, 9]\n",
        "]\n",
        "\n",
        "indices = [1, 2]\n",
        "\n",
        "output_element = access_nested_element(nested_list, indices)\n",
        "\n",
        "print(\"Nested List:\", nested_list)\n",
        "print(f\"Element at indices {indices}:\", output_element)\n"
      ],
      "metadata": {
        "colab": {
          "base_uri": "https://localhost:8080/"
        },
        "id": "EP_Hy86lj01f",
        "outputId": "57fa7bed-67a2-4add-e776-0c83f9ecac72"
      },
      "execution_count": 50,
      "outputs": [
        {
          "output_type": "stream",
          "name": "stdout",
          "text": [
            "Nested List: [[1, 2, 3], [4, 5, 6], [7, 8, 9]]\n",
            "Element at indices [1, 2]: 6\n"
          ]
        }
      ]
    },
    {
      "cell_type": "markdown",
      "source": [
        "3. Sum of All Elements in a Nested List:\n",
        "Write a Python function that calculates the sum of all the numbers in a nested list (regardless of depth).\n"
      ],
      "metadata": {
        "id": "vk6FI_DClR0u"
      }
    },
    {
      "cell_type": "code",
      "source": [
        "def sum_nested(lst):\n",
        "    \"\"\"\n",
        "    Recursively calculates the sum of all elements in a nested list, regardless of depth.\n",
        "\n",
        "    Parameters:\n",
        "    lst (list): A nested list containing numbers.\n",
        "\n",
        "    Returns:\n",
        "    int: The sum of all numbers in the nested list.\n",
        "    \"\"\"\n",
        "    total = 0\n",
        "\n",
        "    for element in lst:\n",
        "        if isinstance(element, list):  #if the element is a list, call the function recursively\n",
        "            total += sum_nested(element)\n",
        "        else:  #if the element is a number, add it to total\n",
        "            total += element\n",
        "\n",
        "    return total\n",
        "\n",
        "\n",
        "nested_list = [[1, 2], [3, [4, 5]], 6]\n",
        "output_sum = sum_nested(nested_list)\n",
        "\n",
        "print(\"Nested List:\", nested_list)\n",
        "print(\"Sum of all elements:\", output_sum)\n"
      ],
      "metadata": {
        "colab": {
          "base_uri": "https://localhost:8080/"
        },
        "id": "nhnZgZyllS16",
        "outputId": "0898bf8c-46d5-412c-ef3d-4094403779b0"
      },
      "execution_count": 51,
      "outputs": [
        {
          "output_type": "stream",
          "name": "stdout",
          "text": [
            "Nested List: [[1, 2], [3, [4, 5]], 6]\n",
            "Sum of all elements: 21\n"
          ]
        }
      ]
    },
    {
      "cell_type": "markdown",
      "source": [
        "4. Remove Specific Element from a Nested List:\n",
        "Write a Python function that removes all occurrences of a specific element from a nested list.\n"
      ],
      "metadata": {
        "id": "Yhuxx3Wc_FIt"
      }
    },
    {
      "cell_type": "code",
      "source": [
        "def remove_element(lst, elem):\n",
        "    \"\"\"\n",
        "    Recursively removes all occurrences of a specific element from a nested list.\n",
        "\n",
        "    Parameters:\n",
        "    lst (list): The nested list.\n",
        "    elem (any): The element to remove.\n",
        "\n",
        "    Returns:\n",
        "    list: A new list with the specified element removed.\n",
        "    \"\"\"\n",
        "    new_list = []\n",
        "\n",
        "    for item in lst:\n",
        "        if isinstance(item, list):\n",
        "            filtered_sublist = remove_element(item, elem)\n",
        "            if filtered_sublist:\n",
        "                new_list.append(filtered_sublist)\n",
        "        elif item != elem:\n",
        "            new_list.append(item)\n",
        "\n",
        "    return new_list\n",
        "\n",
        "\n",
        "nested_list = [[1, 2], [3, 2], [4, 5]]\n",
        "element_to_remove = 2\n",
        "\n",
        "output_list = remove_element(nested_list, element_to_remove)\n",
        "\n",
        "print(\"Original Nested List:\", nested_list)\n",
        "print(f\"Nested List after removing {element_to_remove}:\", output_list)\n"
      ],
      "metadata": {
        "colab": {
          "base_uri": "https://localhost:8080/"
        },
        "id": "4ntaPEHG_GjJ",
        "outputId": "39ddf23d-000f-43ff-8632-dfedafcc3f83"
      },
      "execution_count": 65,
      "outputs": [
        {
          "output_type": "stream",
          "name": "stdout",
          "text": [
            "Original Nested List: [[1, 2], [3, 2], [4, 5]]\n",
            "Nested List after removing 2: [[1], [3], [4, 5]]\n"
          ]
        }
      ]
    },
    {
      "cell_type": "markdown",
      "source": [
        "5. Find the Maximum Element in a Nested List:\n",
        "Write a Python function that finds the maximum element in a nested list (regardless of depth).\n"
      ],
      "metadata": {
        "id": "eU--D8S5-rWS"
      }
    },
    {
      "cell_type": "code",
      "source": [
        "def find_max(lst):\n",
        "    \"\"\"\n",
        "    Recursively finds the maximum element in a nested list.\n",
        "\n",
        "    Parameters:\n",
        "    lst (list): The nested list containing numbers.\n",
        "\n",
        "    Returns:\n",
        "    int/float: The maximum number found in the nested list.\n",
        "    \"\"\"\n",
        "    max_value = float('-inf')\n",
        "\n",
        "    for item in lst:\n",
        "        if isinstance(item, list):\n",
        "            max_value = max(max_value, find_max(item))\n",
        "        else:\n",
        "            max_value = max(max_value, item)\n",
        "\n",
        "    return max_value\n",
        "\n",
        "\n",
        "nested_list = [[1, 2], [3, [4, 5]], 6]\n",
        "output_max = find_max(nested_list)\n",
        "\n",
        "print(\"Nested List:\", nested_list)\n",
        "print(\"Maximum Element:\", output_max)\n"
      ],
      "metadata": {
        "colab": {
          "base_uri": "https://localhost:8080/"
        },
        "id": "0FOhvjH7_fS-",
        "outputId": "805cd7aa-f090-49d0-e779-8f4d47fc2864"
      },
      "execution_count": 66,
      "outputs": [
        {
          "output_type": "stream",
          "name": "stdout",
          "text": [
            "Nested List: [[1, 2], [3, [4, 5]], 6]\n",
            "Maximum Element: 6\n"
          ]
        }
      ]
    },
    {
      "cell_type": "markdown",
      "source": [
        "6. Count Occurrences of an Element in a Nested List:\n",
        "Write a Python function that counts how many times a specific element appears in a nested list.\n"
      ],
      "metadata": {
        "id": "QtxdSGUKmYgi"
      }
    },
    {
      "cell_type": "code",
      "source": [
        "def count_occurrences(lst, elem):\n",
        "    \"\"\"\n",
        "    Recursively counts how many times a specific element appears in a nested list.\n",
        "\n",
        "    Parameters:\n",
        "    lst (list): The nested list.\n",
        "    elem (any): The element to count.\n",
        "\n",
        "    Returns:\n",
        "    int: The number of occurrences of elem in the nested list.\n",
        "    \"\"\"\n",
        "    count = 0\n",
        "\n",
        "    for item in lst:\n",
        "        if isinstance(item, list):\n",
        "            count += count_occurrences(item, elem)\n",
        "        elif item == elem:\n",
        "            count += 1\n",
        "\n",
        "    return count\n",
        "\n",
        "\n",
        "nested_list = [[1, 2], [2, 3], [2, 4]]\n",
        "element_to_count = 2\n",
        "\n",
        "output_count = count_occurrences(nested_list, element_to_count)\n",
        "\n",
        "print(\"Nested List:\", nested_list)\n",
        "print(f\"Occurrences of {element_to_count}:\", output_count)\n"
      ],
      "metadata": {
        "colab": {
          "base_uri": "https://localhost:8080/"
        },
        "id": "zvrofbhzmaI-",
        "outputId": "177f08d0-665b-4916-c30b-ae4defdc779c"
      },
      "execution_count": 52,
      "outputs": [
        {
          "output_type": "stream",
          "name": "stdout",
          "text": [
            "Nested List: [[1, 2], [2, 3], [2, 4]]\n",
            "Occurrences of 2: 3\n"
          ]
        }
      ]
    },
    {
      "cell_type": "markdown",
      "source": [
        "7. Flatten a List of Lists of Lists:\n",
        "Write a Python function that flattens a list of lists of lists into a single list, regardless of the depth.\n"
      ],
      "metadata": {
        "id": "z_SAOfSpmykr"
      }
    },
    {
      "cell_type": "code",
      "source": [
        "def deep_flatten(lst):\n",
        "    \"\"\"\n",
        "    Recursively flattens a deeply nested list into a single list.\n",
        "\n",
        "    Parameters:\n",
        "    lst (list): A deeply nested list.\n",
        "\n",
        "    Returns:\n",
        "    list: A single flattened list containing all elements.\n",
        "    \"\"\"\n",
        "    flattened_list = []\n",
        "\n",
        "    for item in lst:\n",
        "        if isinstance(item, list):\n",
        "            flattened_list.extend(deep_flatten(item))\n",
        "        else:\n",
        "            flattened_list.append(item)\n",
        "\n",
        "    return flattened_list\n",
        "\n",
        "\n",
        "nested_list = [[[1, 2], [3, 4]], [[5, 6], [7, 8]]]\n",
        "output_list = deep_flatten(nested_list)\n",
        "\n",
        "print(\"Original Nested List:\", nested_list)\n",
        "print(\"Flattened List:\", output_list)\n"
      ],
      "metadata": {
        "colab": {
          "base_uri": "https://localhost:8080/"
        },
        "id": "D6n5QV7cmz_7",
        "outputId": "6aa08b86-8e76-4806-ce8f-670dbd07c0bc"
      },
      "execution_count": 53,
      "outputs": [
        {
          "output_type": "stream",
          "name": "stdout",
          "text": [
            "Original Nested List: [[[1, 2], [3, 4]], [[5, 6], [7, 8]]]\n",
            "Flattened List: [1, 2, 3, 4, 5, 6, 7, 8]\n"
          ]
        }
      ]
    },
    {
      "cell_type": "markdown",
      "source": [
        "8. Nested List Average:\n",
        "Write a Python function that calculates the average of all elements in a nested list.\n"
      ],
      "metadata": {
        "id": "s8Z1f4_nnsFQ"
      }
    },
    {
      "cell_type": "code",
      "source": [
        "def average_nested(lst):\n",
        "    \"\"\"\n",
        "    Recursively calculates the average of all elements in a nested list.\n",
        "\n",
        "    Parameters:\n",
        "    lst (list): A nested list containing numbers.\n",
        "\n",
        "    Returns:\n",
        "    float: The average of all elements in the nested list.\n",
        "    \"\"\"\n",
        "    def flatten(lst):\n",
        "        \"\"\"Helper function to flatten the nested list into a single list.\"\"\"\n",
        "        flattened_list = []\n",
        "        for item in lst:\n",
        "            if isinstance(item, list):\n",
        "                flattened_list.extend(flatten(item))\n",
        "            else:\n",
        "                flattened_list.append(item)\n",
        "        return flattened_list\n",
        "\n",
        "    flat_list = flatten(lst)\n",
        "    return sum(flat_list) / len(flat_list) if flat_list else 0\n",
        "\n",
        "nested_list = [[1, 2], [3, 4], [5, 6]]\n",
        "output_average = average_nested(nested_list)\n",
        "\n",
        "print(\"Nested List:\", nested_list)\n",
        "print(\"Average of all elements:\", output_average)\n"
      ],
      "metadata": {
        "colab": {
          "base_uri": "https://localhost:8080/"
        },
        "id": "rFpH3ooPntaC",
        "outputId": "dd9726b3-fd80-4c4e-b228-35e75d590e5b"
      },
      "execution_count": 54,
      "outputs": [
        {
          "output_type": "stream",
          "name": "stdout",
          "text": [
            "Nested List: [[1, 2], [3, 4], [5, 6]]\n",
            "Average of all elements: 3.5\n"
          ]
        }
      ]
    },
    {
      "cell_type": "markdown",
      "source": [
        "#10 To - Do - NumPy\n"
      ],
      "metadata": {
        "id": "WkVGvQSuobQQ"
      }
    },
    {
      "cell_type": "markdown",
      "source": [
        "10.1 Basic Vector and Matrix Operation with Numpy.\n",
        "Problem - 1: Array Creation:\n"
      ],
      "metadata": {
        "id": "k0HOb5sVoclj"
      }
    },
    {
      "cell_type": "code",
      "source": [
        "import numpy as np"
      ],
      "metadata": {
        "id": "vxn62fh6ogH2"
      },
      "execution_count": 55,
      "outputs": []
    },
    {
      "cell_type": "code",
      "source": [
        "empty_array = np.empty((2, 2)) # empty array with size 2x2\n",
        "print(\"1. Empty Array (2x2):\\n\", empty_array)\n",
        "\n",
        "ones_array = np.ones((4, 2)) #array with size 4x2\n",
        "print(\"\\n2. Ones Array (4x2):\\n\", ones_array)\n",
        "\n",
        "fill_array = np.full((3, 3), 7)\n",
        "print(\"\\n3. Filled Array (3x3) with 7:\\n\", fill_array)\n",
        "\n",
        "reference_array = np.array([[1, 2], [3, 4]])\n",
        "zeros_like_array = np.zeros_like(reference_array)\n",
        "print(\"\\n4. Zeros Array (Same shape as reference array):\\n\", zeros_like_array)\n",
        "\n",
        "ones_like_array = np.ones_like(reference_array)\n",
        "print(\"\\n5. Ones Array (Same shape as reference array):\\n\", ones_like_array)\n",
        "\n",
        "new_list = [1, 2, 3, 4]\n",
        "numpy_array = np.array(new_list)\n",
        "print(\"\\n6. Converted NumPy Array from list:\\n\", numpy_array)"
      ],
      "metadata": {
        "colab": {
          "base_uri": "https://localhost:8080/"
        },
        "id": "LYTUqLteoq_-",
        "outputId": "9ab0db85-5ed7-4d87-c933-b98413543529"
      },
      "execution_count": 56,
      "outputs": [
        {
          "output_type": "stream",
          "name": "stdout",
          "text": [
            "1. Empty Array (2x2):\n",
            " [[1.93986388e-316 0.00000000e+000]\n",
            " [9.51299973e+077 1.68199888e+199]]\n",
            "\n",
            "2. Ones Array (4x2):\n",
            " [[1. 1.]\n",
            " [1. 1.]\n",
            " [1. 1.]\n",
            " [1. 1.]]\n",
            "\n",
            "3. Filled Array (3x3) with 7:\n",
            " [[7 7 7]\n",
            " [7 7 7]\n",
            " [7 7 7]]\n",
            "\n",
            "4. Zeros Array (Same shape as reference array):\n",
            " [[0 0]\n",
            " [0 0]]\n",
            "\n",
            "5. Ones Array (Same shape as reference array):\n",
            " [[1 1]\n",
            " [1 1]]\n",
            "\n",
            "6. Converted NumPy Array from list:\n",
            " [1 2 3 4]\n"
          ]
        }
      ]
    },
    {
      "cell_type": "markdown",
      "source": [
        "Problem - 2: Array Manipulation: Numerical Ranges and Array indexing:\n"
      ],
      "metadata": {
        "id": "SAzqqwjYpKpt"
      }
    },
    {
      "cell_type": "code",
      "source": [
        "array_range = np.arange(10, 50) #array with values ranging from 10 to 49\n",
        "print(\"1. Array with values from 10 to 49:\\n\", array_range)\n",
        "\n",
        "matrix_3x3 = np.arange(9).reshape(3, 3) #3x3 matrix with values ranging from 0 to 8\n",
        "print(\"\\n2. 3x3 Matrix with values from 0 to 8:\\n\", matrix_3x3)\n",
        "\n",
        "identity_matrix = np.eye(3) #3x3 identity matrix\n",
        "print(\"\\n3. 3x3 Identity Matrix:\\n\", identity_matrix)\n",
        "\n",
        "random_array = np.random.random(30) #random array of size 30 and find the mean\n",
        "mean_value = random_array.mean()\n",
        "print(\"\\n4. Mean of a random array of size 30:\\n\", mean_value)\n",
        "\n",
        "random_10x10 = np.random.random((10, 10)) #10x10 array with random values and find min and max\n",
        "min_value = random_10x10.min()\n",
        "max_value = random_10x10.max()\n",
        "print(\"\\n5. Min and Max of a 10x10 Random Array:\\nMin:\", min_value, \"Max:\", max_value)\n",
        "\n",
        "zero_array = np.zeros(10) #zero array of size 10 and replace 5th element with 1\n",
        "zero_array[4] = 1\n",
        "print(\"\\n6. Zero Array with 5th element as 1:\\n\", zero_array)\n",
        "\n",
        "arr = np.array([1, 2, 0, 0, 4, 0])\n",
        "reversed_arr = arr[::-1]\n",
        "print(\"\\n7. Reversed Array:\\n\", reversed_arr)\n",
        "\n",
        "border_array = np.ones((5, 5)) #2D array with 1 on border and 0 inside\n",
        "border_array[1:-1, 1:-1] = 0\n",
        "print(\"\\n8. 2D Array with 1 on Border and 0 Inside:\\n\", border_array)\n",
        "\n",
        "checkerboard = np.zeros((8, 8), dtype=int) #8x8 matrix and fill it with a checkerboard pattern\n",
        "checkerboard[1::2, ::2] = 1\n",
        "checkerboard[::2, 1::2] = 1\n",
        "print(\"\\n9. 8x8 Checkerboard Pattern:\\n\", checkerboard)\n"
      ],
      "metadata": {
        "colab": {
          "base_uri": "https://localhost:8080/"
        },
        "id": "7e-7viljpLWb",
        "outputId": "38872b3f-2be4-4c17-b874-4d8b2156242e"
      },
      "execution_count": 57,
      "outputs": [
        {
          "output_type": "stream",
          "name": "stdout",
          "text": [
            "1. Array with values from 10 to 49:\n",
            " [10 11 12 13 14 15 16 17 18 19 20 21 22 23 24 25 26 27 28 29 30 31 32 33\n",
            " 34 35 36 37 38 39 40 41 42 43 44 45 46 47 48 49]\n",
            "\n",
            "2. 3x3 Matrix with values from 0 to 8:\n",
            " [[0 1 2]\n",
            " [3 4 5]\n",
            " [6 7 8]]\n",
            "\n",
            "3. 3x3 Identity Matrix:\n",
            " [[1. 0. 0.]\n",
            " [0. 1. 0.]\n",
            " [0. 0. 1.]]\n",
            "\n",
            "4. Mean of a random array of size 30:\n",
            " 0.5141166245921291\n",
            "\n",
            "5. Min and Max of a 10x10 Random Array:\n",
            "Min: 0.0014764355074091684 Max: 0.9968250206664633\n",
            "\n",
            "6. Zero Array with 5th element as 1:\n",
            " [0. 0. 0. 0. 1. 0. 0. 0. 0. 0.]\n",
            "\n",
            "7. Reversed Array:\n",
            " [0 4 0 0 2 1]\n",
            "\n",
            "8. 2D Array with 1 on Border and 0 Inside:\n",
            " [[1. 1. 1. 1. 1.]\n",
            " [1. 0. 0. 0. 1.]\n",
            " [1. 0. 0. 0. 1.]\n",
            " [1. 0. 0. 0. 1.]\n",
            " [1. 1. 1. 1. 1.]]\n",
            "\n",
            "9. 8x8 Checkerboard Pattern:\n",
            " [[0 1 0 1 0 1 0 1]\n",
            " [1 0 1 0 1 0 1 0]\n",
            " [0 1 0 1 0 1 0 1]\n",
            " [1 0 1 0 1 0 1 0]\n",
            " [0 1 0 1 0 1 0 1]\n",
            " [1 0 1 0 1 0 1 0]\n",
            " [0 1 0 1 0 1 0 1]\n",
            " [1 0 1 0 1 0 1 0]]\n"
          ]
        }
      ]
    },
    {
      "cell_type": "markdown",
      "source": [
        "Problem - 3: Array Operations:\n",
        "\n"
      ],
      "metadata": {
        "id": "TJIgRcvMrE-g"
      }
    },
    {
      "cell_type": "code",
      "source": [
        "\n",
        "x = np.array([[1, 2], [3, 5]])\n",
        "y = np.array([[5, 6], [7, 8]])\n",
        "v = np.array([9, 10])\n",
        "w = np.array([11, 12])\n",
        "\n",
        "addition_result = x + y\n",
        "print(\"1. Addition of x and y:\\n\", addition_result)\n",
        "\n",
        "subtraction_result = x - y\n",
        "print(\"\\n2. Subtraction of x and y:\\n\", subtraction_result)\n",
        "\n",
        "multiplication_result = x * 2\n",
        "print(\"\\n3. Multiplication of x by 2:\\n\", multiplication_result)\n",
        "\n",
        "square_result = np.square(x)\n",
        "print(\"\\n4. Square of each element in x:\\n\", square_result)\n",
        "\n",
        "\n",
        "dot_vw = np.dot(v, w)\n",
        "dot_xv = np.dot(x, v)\n",
        "dot_xy = np.dot(x, y)\n",
        "print(\"\\n5. Dot Product Results:\")\n",
        "print(\"v ⋅ w:\", dot_vw)\n",
        "print(\"x ⋅ v:\\n\", dot_xv)\n",
        "print(\"x ⋅ y:\\n\", dot_xy)\n",
        "\n",
        "\n",
        "concat_xy_rows = np.concatenate((x, y), axis=0)\n",
        "concat_vw_cols = np.vstack((v, w))\n",
        "print(\"\\n6. Concatenation of x and y along rows:\\n\", concat_xy_rows)\n",
        "print(\"\\nConcatenation of v and w along columns:\\n\", concat_vw_cols)\n",
        "\n",
        "\n",
        "try:\n",
        "    concat_xv = np.concatenate((x, v), axis=0)\n",
        "    print(\"\\n7. Concatenation of x and v:\\n\", concat_xv)\n",
        "except ValueError as e:\n",
        "    print(\"\\n7. Error when trying to concatenate x and v:\", e)\n"
      ],
      "metadata": {
        "colab": {
          "base_uri": "https://localhost:8080/"
        },
        "id": "-opa1HJ0rGt_",
        "outputId": "81094334-3875-43ea-e3de-df0376d1bb24"
      },
      "execution_count": 58,
      "outputs": [
        {
          "output_type": "stream",
          "name": "stdout",
          "text": [
            "1. Addition of x and y:\n",
            " [[ 6  8]\n",
            " [10 13]]\n",
            "\n",
            "2. Subtraction of x and y:\n",
            " [[-4 -4]\n",
            " [-4 -3]]\n",
            "\n",
            "3. Multiplication of x by 2:\n",
            " [[ 2  4]\n",
            " [ 6 10]]\n",
            "\n",
            "4. Square of each element in x:\n",
            " [[ 1  4]\n",
            " [ 9 25]]\n",
            "\n",
            "5. Dot Product Results:\n",
            "v ⋅ w: 219\n",
            "x ⋅ v:\n",
            " [29 77]\n",
            "x ⋅ y:\n",
            " [[19 22]\n",
            " [50 58]]\n",
            "\n",
            "6. Concatenation of x and y along rows:\n",
            " [[1 2]\n",
            " [3 5]\n",
            " [5 6]\n",
            " [7 8]]\n",
            "\n",
            "Concatenation of v and w along columns:\n",
            " [[ 9 10]\n",
            " [11 12]]\n",
            "\n",
            "7. Error when trying to concatenate x and v: all the input arrays must have same number of dimensions, but the array at index 0 has 2 dimension(s) and the array at index 1 has 1 dimension(s)\n"
          ]
        }
      ]
    },
    {
      "cell_type": "markdown",
      "source": [
        "Problem - 4: Matrix Operations:"
      ],
      "metadata": {
        "id": "b2jfqkWosQxA"
      }
    },
    {
      "cell_type": "code",
      "source": [
        "A = np.array([[3, 4], [7, 8]])\n",
        "B = np.array([[5, 3], [2, 1]])\n",
        "\n",
        "#1. Prove A * A^-1 = I\n",
        "A_inv = np.linalg.inv(A)  #computing inverse of A\n",
        "identity_matrix = np.dot(A, A_inv)\n",
        "\n",
        "print(\"1. Proof that A * A^-1 = I:\\n\", np.round(identity_matrix, decimals=4))  #np.round to avoid floating-point errors\n",
        "\n",
        "#2. Prove AB ≠ BA\n",
        "AB = np.dot(A, B)\n",
        "BA = np.dot(B, A)  #\n",
        "print(\"\\n2. Proof that AB ≠ BA:\\nAB:\\n\", AB, \"\\nBA:\\n\", BA)\n",
        "\n",
        "# 3. Prove (AB)^T = B^T A^T\n",
        "AB_T = np.transpose(AB)  # (AB)^T\n",
        "BT_AT = np.dot(np.transpose(B), np.transpose(A))  # B^T A^T\n",
        "print(\"\\n3. Proof that (AB)^T = B^T A^T:\\n(AB)^T:\\n\", AB_T, \"\\nB^T A^T:\\n\", BT_AT)\n",
        "\n",
        "\"\"\"4. Solve System of Linear Equations using Inverse Method\n",
        "System of equations:\n",
        "2x - 3y +  z = -1\n",
        "x  -  y + 2z = -3\n",
        "3x +  y -  z =  9\"\"\"\n",
        "\n",
        "# Represent as AX = B\n",
        "A_eq = np.array([\n",
        "    [2, -3, 1],\n",
        "    [1, -1, 2],\n",
        "    [3, 1, -1]\n",
        "])\n",
        "B_eq = np.array([-1, -3, 9])\n",
        "\n",
        "#solving using np.linalg.inv()\n",
        "A_inv_eq = np.linalg.inv(A_eq)\n",
        "X = np.dot(A_inv_eq, B_eq)\n",
        "\n",
        "print(\"\\n4. Solution to the system of linear equations:\\n[x, y, z] =\\n\", X)"
      ],
      "metadata": {
        "colab": {
          "base_uri": "https://localhost:8080/"
        },
        "id": "xb-ZrLIQsRTl",
        "outputId": "79e0cb10-c383-4a9f-e1c8-91ae12b89a56"
      },
      "execution_count": 59,
      "outputs": [
        {
          "output_type": "stream",
          "name": "stdout",
          "text": [
            "1. Proof that A * A^-1 = I:\n",
            " [[1. 0.]\n",
            " [0. 1.]]\n",
            "\n",
            "2. Proof that AB ≠ BA:\n",
            "AB:\n",
            " [[23 13]\n",
            " [51 29]] \n",
            "BA:\n",
            " [[36 44]\n",
            " [13 16]]\n",
            "\n",
            "3. Proof that (AB)^T = B^T A^T:\n",
            "(AB)^T:\n",
            " [[23 51]\n",
            " [13 29]] \n",
            "B^T A^T:\n",
            " [[23 51]\n",
            " [13 29]]\n",
            "\n",
            "4. Solution to the system of linear equations:\n",
            "[x, y, z] =\n",
            " [ 2.  1. -2.]\n"
          ]
        }
      ]
    },
    {
      "cell_type": "markdown",
      "source": [
        "#10.2 Experiment: How Fast is Numpy?\n"
      ],
      "metadata": {
        "id": "TyCje8glvqMs"
      }
    },
    {
      "cell_type": "markdown",
      "source": [
        "1. Element-wise Addition:\n",
        "• Using Python Lists, perform element-wise addition of two lists of size 1, 000, 000. Measure\n",
        "and Print the time taken for this operation.\n",
        "• Using Numpy Arrays, Repeat the calculation and measure and print the time taken for\n",
        "this operation.\n"
      ],
      "metadata": {
        "id": "-Fow8868vr4j"
      }
    },
    {
      "cell_type": "code",
      "source": [
        "import time"
      ],
      "metadata": {
        "id": "PdteHwYdvrAJ"
      },
      "execution_count": 60,
      "outputs": []
    },
    {
      "cell_type": "code",
      "source": [
        "#two lists of size 1,000,000\n",
        "list1 = list(range(1_000_000))\n",
        "list2 = list(range(1_000_000))"
      ],
      "metadata": {
        "id": "_JTt-80Mx-9p"
      },
      "execution_count": 61,
      "outputs": []
    },
    {
      "cell_type": "code",
      "source": [
        "#measuring time for Python list addition\n",
        "start_time = time.time()\n",
        "result_list = [list1[i] + list2[i] for i in range(len(list1))]\n",
        "end_time = time.time()\n",
        "python_time = end_time - start_time\n",
        "print(f\"1. Time taken for Python List Addition: {python_time:.6f} seconds\")\n",
        "\n",
        "#two NumPy arrays of size 1,000,000\n",
        "array1 = np.arange(1_000_000)\n",
        "array2 = np.arange(1_000_000)\n",
        "\n",
        "#measureing time for NumPy array addition\n",
        "start_time = time.time()\n",
        "result_array = array1 + array2\n",
        "end_time = time.time()\n",
        "numpy_time = end_time - start_time\n",
        "print(f\"2. Time taken for NumPy Array Addition: {numpy_time:.6f} seconds\")\n",
        "\n",
        "#compare performance\n",
        "speedup = python_time / numpy_time\n",
        "print(f\"\\nNumPy is approximately {speedup:.2f} times faster than Python Lists.\")"
      ],
      "metadata": {
        "colab": {
          "base_uri": "https://localhost:8080/"
        },
        "id": "owUme1YqwNME",
        "outputId": "6c4d63e7-859c-4446-ca80-81bf9b71d83d"
      },
      "execution_count": 62,
      "outputs": [
        {
          "output_type": "stream",
          "name": "stdout",
          "text": [
            "1. Time taken for Python List Addition: 0.136493 seconds\n",
            "2. Time taken for NumPy Array Addition: 0.005884 seconds\n",
            "\n",
            "NumPy is approximately 23.20 times faster than Python Lists.\n"
          ]
        }
      ]
    },
    {
      "cell_type": "markdown",
      "source": [
        "2. Element-wise Multiplication\n",
        "\n"
      ],
      "metadata": {
        "id": "NLBvfN9MxLNQ"
      }
    },
    {
      "cell_type": "code",
      "source": [
        "\n",
        "start_time = time.time()\n",
        "result_list = [list1[i] * list2[i] for i in range(len(list1))]\n",
        "end_time = time.time()\n",
        "python_time = end_time - start_time\n",
        "print(f\"1. Time taken for Python List Multiplication: {python_time:.6f} seconds\")\n",
        "\n",
        "#two NumPy arrays of size 1,000,000\n",
        "array1 = np.arange(1_000_000)\n",
        "array2 = np.arange(1_000_000)\n",
        "\n",
        "#time for NumPy array multiplication\n",
        "start_time = time.time()\n",
        "result_array = array1 * array2\n",
        "end_time = time.time()\n",
        "numpy_time = end_time - start_time\n",
        "print(f\"2. Time taken for NumPy Array Multiplication: {numpy_time:.6f} seconds\")\n",
        "\n",
        "\n",
        "speedup = python_time / numpy_time\n",
        "print(f\"\\nNumPy is approximately {speedup:.2f} times faster than Python Lists.\")"
      ],
      "metadata": {
        "colab": {
          "base_uri": "https://localhost:8080/"
        },
        "id": "9nrOqjzYxMsT",
        "outputId": "8cdc3370-a3b0-4a65-c800-2ea1add0e9f5"
      },
      "execution_count": 63,
      "outputs": [
        {
          "output_type": "stream",
          "name": "stdout",
          "text": [
            "1. Time taken for Python List Multiplication: 0.127443 seconds\n",
            "2. Time taken for NumPy Array Multiplication: 0.002617 seconds\n",
            "\n",
            "NumPy is approximately 48.70 times faster than Python Lists.\n"
          ]
        }
      ]
    },
    {
      "cell_type": "markdown",
      "source": [
        "3. Dot Product"
      ],
      "metadata": {
        "id": "SyCa9sjjyITL"
      }
    },
    {
      "cell_type": "code",
      "source": [
        "start_time = time.time()\n",
        "dot_product_list = sum(list1[i] * list2[i] for i in range(len(list1)))\n",
        "end_time = time.time()\n",
        "python_time = end_time - start_time\n",
        "print(f\"1. Time taken for Python List Dot Product: {python_time:.6f} seconds\")\n",
        "\n",
        "#two NumPy arrays of size 1,000,000\n",
        "array1 = np.arange(1_000_000)\n",
        "array2 = np.arange(1_000_000)\n",
        "\n",
        "#time for NumPy array dot product\n",
        "start_time = time.time()\n",
        "dot_product_numpy = np.dot(array1, array2)\n",
        "end_time = time.time()\n",
        "numpy_time = end_time - start_time\n",
        "print(f\"2. Time taken for NumPy Array Dot Product: {numpy_time:.6f} seconds\")\n",
        "\n",
        "\n",
        "speedup = python_time / numpy_time\n",
        "print(f\"\\nNumPy is approximately {speedup:.2f} times faster than Python Lists.\")"
      ],
      "metadata": {
        "colab": {
          "base_uri": "https://localhost:8080/"
        },
        "id": "PgSaeZBmxcsE",
        "outputId": "5cd5e7d7-66cb-4528-e4c4-4974f29ecdeb"
      },
      "execution_count": 64,
      "outputs": [
        {
          "output_type": "stream",
          "name": "stdout",
          "text": [
            "1. Time taken for Python List Dot Product: 0.103340 seconds\n",
            "2. Time taken for NumPy Array Dot Product: 0.001946 seconds\n",
            "\n",
            "NumPy is approximately 53.10 times faster than Python Lists.\n"
          ]
        }
      ]
    },
    {
      "cell_type": "markdown",
      "source": [
        "4. Matrix Multiplication"
      ],
      "metadata": {
        "id": "JzzMiH2Tyie8"
      }
    },
    {
      "cell_type": "code",
      "source": [
        "\n",
        "\n",
        "#matrix size\n",
        "N = 1000\n",
        "\n",
        "#two 1000x1000 matrices using Python lists\n",
        "list1 = [[i * j for j in range(N)] for i in range(N)]\n",
        "list2 = [[j * i for j in range(N)] for i in range(N)]\n",
        "\n",
        "#time for Python list matrix multiplication\n",
        "start_time = time.time()\n",
        "result_list = [[sum(list1[i][k] * list2[k][j] for k in range(N)) for j in range(N)] for i in range(N)]\n",
        "end_time = time.time()\n",
        "python_time = end_time - start_time\n",
        "print(f\"1. Time taken for Python List Matrix Multiplication: {python_time:.6f} seconds\")\n",
        "\n",
        "#two 1000x1000 matrices using NumPy\n",
        "array1 = np.arange(N * N).reshape(N, N)\n",
        "array2 = np.arange(N * N).reshape(N, N)\n",
        "\n",
        "#time for NumPy matrix multiplication\n",
        "start_time = time.time()\n",
        "result_array = np.dot(array1, array2)\n",
        "end_time = time.time()\n",
        "numpy_time = end_time - start_time\n",
        "print(f\"2. Time taken for NumPy Array Matrix Multiplication: {numpy_time:.6f} seconds\")\n",
        "\n",
        "\n",
        "speedup = python_time / numpy_time\n",
        "print(f\"\\nNumPy is approximately {speedup:.2f} times faster than Python Lists.\")\n"
      ],
      "metadata": {
        "colab": {
          "base_uri": "https://localhost:8080/"
        },
        "id": "G4Y3Gyj6yjDY",
        "outputId": "1b9a44ef-cebc-4297-fa97-193369bf1e5b"
      },
      "execution_count": 39,
      "outputs": [
        {
          "output_type": "stream",
          "name": "stdout",
          "text": [
            "1. Time taken for Python List Matrix Multiplication: 224.831834 seconds\n",
            "2. Time taken for NumPy Array Matrix Multiplication: 1.943081 seconds\n",
            "\n",
            "NumPy is approximately 115.71 times faster than Python Lists.\n"
          ]
        }
      ]
    }
  ]
}